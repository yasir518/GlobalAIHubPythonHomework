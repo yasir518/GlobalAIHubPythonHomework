{
 "cells": [
  {
   "cell_type": "code",
   "execution_count": 24,
   "metadata": {},
   "outputs": [],
   "source": [
    "class Courses:\n",
    "    MIDTERM_PERC = 0.3\n",
    "    FINAL_PERC = 0.5\n",
    "    PROJECT_PERC = 0.2\n",
    "    def __init__(self,name,midterm=0,final=0,project=0,ortalama=0,harf_notu=None):\n",
    "        self.name = name\n",
    "        self.midterm = midterm\n",
    "        self.final = final\n",
    "        self.project = project\n",
    "        self.ortalama = ortalama\n",
    "        self.harf_notu = harf_notu\n",
    "    def not_hesapla(self):\n",
    "        ortalama = self.MIDTERM_PERC*self.midterm + self.FINAL_PERC*self.final + self.PROJECT_PERC*self.project\n",
    "        self.ortalama = ortalama\n",
    "        if(ortalama > 90):\n",
    "            self.harf_notu = \"AA\"\n",
    "        elif(ortalama > 70):\n",
    "            self.harf_notu = \"BB\"\n",
    "        elif(ortalama > 50):\n",
    "            self.harf_notu = \"CC\"\n",
    "        elif(ortalama > 30):\n",
    "            self.harf_notu = \"DD\"\n",
    "        else:\n",
    "            self.harf_notu = \"FF\""
   ]
  },
  {
   "cell_type": "code",
   "execution_count": 34,
   "metadata": {},
   "outputs": [],
   "source": [
    "class Student:\n",
    "    def __init__(self,name,surname,lessons=dict()):\n",
    "        self.name = name\n",
    "        self.surname = surname\n",
    "        self.lessons = lessons\n",
    "        \n",
    "    def ders_sec(self):\n",
    "        secilenler = set()\n",
    "        secilen_sayi = 0\n",
    "        while True:\n",
    "            print(\"Almak istediğiniz kursları seçiniz\")\n",
    "            for kurs_indis,kurs in enumerate(courses_list):\n",
    "                print(f\"{kurs_indis+1}. {kurs}\")\n",
    "            print(f\"{kurs_indis+2}. Cıkış\")\n",
    "            girdi = int(input(\">>\"))\n",
    "            if girdi in range(1,len(courses_list)+1):\n",
    "                secilenler.add(courses_list[girdi-1])\n",
    "            elif girdi == len(courses_list)+1:\n",
    "                break\n",
    "            else:\n",
    "                print(\"Hatali Seçim\")\n",
    "\n",
    "        if len(secilenler) >= 3 and len(secilenler) <= 5:\n",
    "            print(\"Ders seçimi başarılı.\")\n",
    "            self.__secilmis_dersleri_ekle(secilenler)\n",
    "        else:\n",
    "            print(\"Ders Seçimi başarısız.\")\n",
    "    \n",
    "    def notlari_gir(self):\n",
    "        for key,value in self.lessons.items():\n",
    "            print(\"<-------------------------------->\")\n",
    "            print(f\"{key} dersi için notlarınızı girin: \")\n",
    "\n",
    "            midterm = int(input(\"Midterm : \"))\n",
    "            final = int(input(\"Final : \"))\n",
    "            project = int(input(\"Project : \"))\n",
    "\n",
    "            self.lessons[key].midterm = midterm\n",
    "            self.lessons[key].final = final\n",
    "            self.lessons[key].project = project\n",
    "            \n",
    "            self.lessons[key].not_hesapla()\n",
    "            \n",
    "    def __secilmis_dersleri_ekle(self,secilenler):\n",
    "        for i in range(len(secilenler)):\n",
    "            kurs_isim = secilenler.pop()\n",
    "            self.lessons[kurs_isim] = Courses(kurs_isim)"
   ]
  },
  {
   "cell_type": "code",
   "execution_count": 35,
   "metadata": {},
   "outputs": [],
   "source": [
    "def ogrenci_var_mi(isim,soyisim):\n",
    "    for indis,ogrenci in enumerate(ogrenciler_list):\n",
    "        if(ogrenci.name == isim and ogrenci.surname == soyisim):\n",
    "            return indis\n",
    "    return -1"
   ]
  },
  {
   "cell_type": "code",
   "execution_count": 36,
   "metadata": {},
   "outputs": [],
   "source": [
    "def giris_yap():\n",
    "    hak = 3\n",
    "    ogrenci_indis = None\n",
    "    while hak !=0:\n",
    "        isim = input(\"İsminizi giriniz : \")\n",
    "        soyisim = input(\"Soyisminizi giriniz : \")\n",
    "        ogrenci_indis=ogrenci_var_mi(isim,soyisim)\n",
    "        if(ogrenci_indis == -1):\n",
    "            hak -= 1\n",
    "        else:\n",
    "            break\n",
    "    if(hak == 0):\n",
    "        print(\"3 kere yanlış giriş yaptınız. Lütfen daha sonra tekrar deneyin.\")\n",
    "        return -1\n",
    "    else:\n",
    "        print(f\"Hoş Geldin {isim}\")\n",
    "        return ogrenci_indis"
   ]
  },
  {
   "cell_type": "code",
   "execution_count": 37,
   "metadata": {},
   "outputs": [],
   "source": [
    "def kurslari_kullanicidan_al():\n",
    "    kurslar = list()\n",
    "    for i in range(5):\n",
    "        girdi = input(\"Ders adını giriniz: \")\n",
    "        kurslar.append(girdi)\n",
    "    return kurslar"
   ]
  },
  {
   "cell_type": "code",
   "execution_count": 38,
   "metadata": {},
   "outputs": [],
   "source": [
    "ogrenciler_list = [Student(\"Ahmet Yasir\",\"Akbal\")]"
   ]
  },
  {
   "cell_type": "code",
   "execution_count": 39,
   "metadata": {},
   "outputs": [
    {
     "name": "stdout",
     "output_type": "stream",
     "text": [
      "İsminizi giriniz : Ahmet Yasir\n",
      "Soyisminizi giriniz : Akbal\n",
      "Hoş Geldin Ahmet Yasir\n"
     ]
    }
   ],
   "source": [
    "ogrenci_indis = giris_yap()"
   ]
  },
  {
   "cell_type": "code",
   "execution_count": 40,
   "metadata": {},
   "outputs": [
    {
     "name": "stdout",
     "output_type": "stream",
     "text": [
      "Ders adını giriniz: mat\n",
      "Ders adını giriniz: geo\n",
      "Ders adını giriniz: fizik\n",
      "Ders adını giriniz: din\n",
      "Ders adını giriniz: beden\n"
     ]
    }
   ],
   "source": [
    "courses_list = kurslari_kullanicidan_al()"
   ]
  },
  {
   "cell_type": "code",
   "execution_count": 41,
   "metadata": {},
   "outputs": [],
   "source": [
    "ogrenci = ogrenciler_list[ogrenci_indis]"
   ]
  },
  {
   "cell_type": "code",
   "execution_count": 42,
   "metadata": {},
   "outputs": [
    {
     "name": "stdout",
     "output_type": "stream",
     "text": [
      "Almak istediğiniz kursları seçiniz\n",
      "1. mat\n",
      "2. geo\n",
      "3. fizik\n",
      "4. din\n",
      "5. beden\n",
      "6. Cıkış\n",
      ">>1\n",
      "Almak istediğiniz kursları seçiniz\n",
      "1. mat\n",
      "2. geo\n",
      "3. fizik\n",
      "4. din\n",
      "5. beden\n",
      "6. Cıkış\n",
      ">>2\n",
      "Almak istediğiniz kursları seçiniz\n",
      "1. mat\n",
      "2. geo\n",
      "3. fizik\n",
      "4. din\n",
      "5. beden\n",
      "6. Cıkış\n",
      ">>3\n",
      "Almak istediğiniz kursları seçiniz\n",
      "1. mat\n",
      "2. geo\n",
      "3. fizik\n",
      "4. din\n",
      "5. beden\n",
      "6. Cıkış\n",
      ">>6\n",
      "Ders seçimi başarılı.\n"
     ]
    }
   ],
   "source": [
    "ogrenci.ders_sec()"
   ]
  },
  {
   "cell_type": "code",
   "execution_count": 43,
   "metadata": {},
   "outputs": [
    {
     "name": "stdout",
     "output_type": "stream",
     "text": [
      "<-------------------------------->\n",
      "mat dersi için notlarınızı girin: \n",
      "Midterm : 30\n",
      "Final : 40\n",
      "Project : 50\n",
      "<-------------------------------->\n",
      "geo dersi için notlarınızı girin: \n",
      "Midterm : 0\n",
      "Final : 1\n",
      "Project : 10\n",
      "<-------------------------------->\n",
      "fizik dersi için notlarınızı girin: \n",
      "Midterm : 100\n",
      "Final : 86\n",
      "Project : 90\n"
     ]
    }
   ],
   "source": [
    "ogrenci.notlari_gir()"
   ]
  },
  {
   "cell_type": "code",
   "execution_count": 44,
   "metadata": {},
   "outputs": [
    {
     "name": "stdout",
     "output_type": "stream",
     "text": [
      "mat dersi için notunuz: DD. Geçtiniz...\n",
      "geo dersi için notunuz: FF. Kaldınız...\n",
      "fizik dersi için notunuz: AA. Geçtiniz...\n"
     ]
    }
   ],
   "source": [
    "for key,value in ogrenci.lessons.items():\n",
    "    if(ogrenci.lessons[key].harf_notu == \"FF\"):\n",
    "        print(f\"{key} dersi için notunuz: {ogrenci.lessons[key].harf_notu}. Kaldınız...\")\n",
    "    else:\n",
    "        print(f\"{key} dersi için notunuz: {ogrenci.lessons[key].harf_notu}. Geçtiniz...\")"
   ]
  },
  {
   "cell_type": "code",
   "execution_count": null,
   "metadata": {},
   "outputs": [],
   "source": []
  },
  {
   "cell_type": "code",
   "execution_count": null,
   "metadata": {},
   "outputs": [],
   "source": []
  },
  {
   "cell_type": "code",
   "execution_count": null,
   "metadata": {},
   "outputs": [],
   "source": []
  },
  {
   "cell_type": "code",
   "execution_count": null,
   "metadata": {},
   "outputs": [],
   "source": []
  }
 ],
 "metadata": {
  "kernelspec": {
   "display_name": "Python 3",
   "language": "python",
   "name": "python3"
  },
  "language_info": {
   "codemirror_mode": {
    "name": "ipython",
    "version": 3
   },
   "file_extension": ".py",
   "mimetype": "text/x-python",
   "name": "python",
   "nbconvert_exporter": "python",
   "pygments_lexer": "ipython3",
   "version": "3.8.3"
  }
 },
 "nbformat": 4,
 "nbformat_minor": 4
}
