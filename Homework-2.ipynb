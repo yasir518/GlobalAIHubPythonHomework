{
 "cells": [
  {
   "cell_type": "code",
   "execution_count": null,
   "metadata": {},
   "outputs": [],
   "source": [
    "class Kisi:\n",
    "    def __init__(self,first_name,last_name,age,date_of_birth):\n",
    "        self.first_name = first_name\n",
    "        self.last_name= last_name\n",
    "        self.age = age\n",
    "        self.date_of_birth = date_of_birth\n",
    "    def __str__(self):\n",
    "        return(f\"\"\"\n",
    "        <------------------------------------------>\n",
    "        İsim : {self.first_name}\n",
    "        Soyisim : {self.last_name}\n",
    "        Age : {self.age}\n",
    "        Dogum Tarihi : {self.date_of_birth}\n",
    "        <------------------------------------------>\n",
    "        \"\"\")"
   ]
  },
  {
   "cell_type": "code",
   "execution_count": null,
   "metadata": {},
   "outputs": [],
   "source": [
    "kisiler = list()\n",
    "girdi = None\n",
    "while True:\n",
    "    print(\"\"\"\n",
    "    1. Kisi Gir\n",
    "    2. Cikis\n",
    "    \"\"\")\n",
    "    girdi = int(input(\">>\"))\n",
    "    if girdi == 1:\n",
    "        try:\n",
    "            first = input(\"İsim giriniz: \")\n",
    "            last = input(\"Soyisim giriniz: \")\n",
    "            age = int(input(\"Yaş giriniz: \"))\n",
    "            date = int(input(\"Dogum tarihi giriniz: \"))\n",
    "            kisiler.append(Kisi(first,last,age,date))\n",
    "        except ValueError:\n",
    "            print(\"Yaş ve Doğum Tarihi tamsayı olmalıdır.\")\n",
    "            continue\n",
    "    elif girdi == 2:\n",
    "        break\n",
    "    else:\n",
    "        print(\"Hatali secim.\")"
   ]
  },
  {
   "cell_type": "code",
   "execution_count": null,
   "metadata": {},
   "outputs": [],
   "source": [
    "for kisi in kisiler:\n",
    "    print(kisi)\n",
    "    if kisi.age < 18:\n",
    "        print(\"\\tYou can't go out beacuse it's too dangerous.\")\n",
    "    else:\n",
    "        print(\"\\tYou can go out to the street.\")"
   ]
  },
  {
   "cell_type": "code",
   "execution_count": null,
   "metadata": {},
   "outputs": [],
   "source": []
  },
  {
   "cell_type": "code",
   "execution_count": null,
   "metadata": {},
   "outputs": [],
   "source": []
  }
 ],
 "metadata": {
  "kernelspec": {
   "display_name": "Python 3",
   "language": "python",
   "name": "python3"
  },
  "language_info": {
   "codemirror_mode": {
    "name": "ipython",
    "version": 3
   },
   "file_extension": ".py",
   "mimetype": "text/x-python",
   "name": "python",
   "nbconvert_exporter": "python",
   "pygments_lexer": "ipython3",
   "version": "3.8.3"
  }
 },
 "nbformat": 4,
 "nbformat_minor": 4
}
