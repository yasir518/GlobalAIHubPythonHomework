{
 "cells": [
  {
   "cell_type": "code",
   "execution_count": null,
   "metadata": {},
   "outputs": [],
   "source": [
    "import numpy as np"
   ]
  },
  {
   "cell_type": "code",
   "execution_count": null,
   "metadata": {},
   "outputs": [],
   "source": [
    "KELIMELER = ('Adana', 'Adıyaman', 'Afyon', 'Ağrı', 'Amasya', 'Ankara', 'Antalya', 'Artvin',\n",
    "'Aydın', 'Balıkesir', 'Bilecik', 'Bingöl', 'Bitlis', 'Bolu', 'Burdur', 'Bursa', 'Çanakkale',\n",
    "'Çankırı', 'Çorum', 'Denizli', 'Diyarbakır', 'Edirne', 'Elazığ', 'Erzincan', 'Erzurum', 'Eskişehir',\n",
    "'Gaziantep', 'Giresun', 'Gümüşhane', 'Hakkari', 'Hatay', 'Isparta', 'Mersin', 'İstanbul', 'İzmir', \n",
    "'Kars', 'Kastamonu', 'Kayseri', 'Kırklareli', 'Kırşehir', 'Kocaeli', 'Konya', 'Kütahya', 'Malatya', \n",
    "'Manisa', 'Kahramanmaraş', 'Mardin', 'Muğla', 'Muş', 'Nevşehir', 'Niğde', 'Ordu', 'Rize', 'Sakarya',\n",
    "'Samsun', 'Siirt', 'Sinop', 'Sivas', 'Tekirdağ', 'Tokat', 'Trabzon', 'Tunceli', 'Şanlıurfa', 'Uşak',\n",
    "'Van', 'Yozgat', 'Zonguldak', 'Aksaray', 'Bayburt', 'Karaman', 'Kırıkkale', 'Batman', 'Şırnak',\n",
    "'Bartın', 'Ardahan', 'Iğdır', 'Yalova', 'Karabük', 'Kilis', 'Osmaniye', 'Düzce')"
   ]
  },
  {
   "cell_type": "code",
   "execution_count": null,
   "metadata": {},
   "outputs": [],
   "source": [
    "def oyna():\n",
    "    kelime = KELIMELER[np.random.randint(0,len(KELIMELER))].lower()\n",
    "    ipuclari_indis = np.random.randint(0,len(kelime),len(kelime) // 3)\n",
    "    hak = len(kelime) - len(ipuclari_indis) - 2\n",
    "    if(hak == 0): hak = 1\n",
    "    tahmin = np.array(list(\"*\"*len(kelime)))\n",
    "    array = np.array(list(kelime))\n",
    "    \n",
    "    tahmin[ipuclari_indis] = array[ipuclari_indis]\n",
    "    girdi = None\n",
    "    while hak != 0:\n",
    "        print(\"<------------------>\")\n",
    "        print(f\"Kalan hakkın = {hak}\")\n",
    "        print(\"\".join(list(tahmin)))\n",
    "        girdi = input(\"Harf giriniz: \")\n",
    "        if girdi in array:\n",
    "            ipuclari_indis = np.array(list(set(np.concatenate([ipuclari_indis,np.where(array == girdi)[0]]))))\n",
    "            tahmin[ipuclari_indis] = array[ipuclari_indis]\n",
    "        else:\n",
    "            hak -= 1\n",
    "        if(len(ipuclari_indis) == len(kelime)):\n",
    "            print(\"Kazandın\")\n",
    "            break        \n",
    "    if(hak == 0):\n",
    "        print(\"Kaybettin\")\n",
    "        \n",
    "    print(f\"Cevap :  {kelime}\")"
   ]
  },
  {
   "cell_type": "code",
   "execution_count": null,
   "metadata": {},
   "outputs": [],
   "source": [
    "isim = input(\"Lütfen isminizi giriniz: \")\n",
    "secim = 0\n",
    "while True:\n",
    "    print(\"\"\"\n",
    "    1. Oyna\n",
    "    2. Cikis\n",
    "    \"\"\")\n",
    "    \n",
    "    secim = int(input(\">>\"))\n",
    "    \n",
    "    if secim == 1:\n",
    "        print(\"<--------------------------->\")\n",
    "        print(f\"Merhaba {isim}\")\n",
    "        print(\"Oyun başlıyor..\")\n",
    "        print(\"<--------------------------->\")\n",
    "        oyna()\n",
    "    elif secim == 2:\n",
    "        break\n",
    "    else:\n",
    "        print(\"Yanlis secim\")"
   ]
  },
  {
   "cell_type": "code",
   "execution_count": null,
   "metadata": {},
   "outputs": [],
   "source": []
  }
 ],
 "metadata": {
  "kernelspec": {
   "display_name": "Python 3",
   "language": "python",
   "name": "python3"
  },
  "language_info": {
   "codemirror_mode": {
    "name": "ipython",
    "version": 3
   },
   "file_extension": ".py",
   "mimetype": "text/x-python",
   "name": "python",
   "nbconvert_exporter": "python",
   "pygments_lexer": "ipython3",
   "version": "3.8.3"
  }
 },
 "nbformat": 4,
 "nbformat_minor": 4
}
